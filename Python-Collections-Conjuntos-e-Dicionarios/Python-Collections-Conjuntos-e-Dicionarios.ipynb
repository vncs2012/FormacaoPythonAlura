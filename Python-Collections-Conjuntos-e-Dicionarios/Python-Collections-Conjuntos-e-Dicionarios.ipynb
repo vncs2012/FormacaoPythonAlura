{
 "metadata": {
  "language_info": {
   "codemirror_mode": {
    "name": "ipython",
    "version": 3
   },
   "file_extension": ".py",
   "mimetype": "text/x-python",
   "name": "python",
   "nbconvert_exporter": "python",
   "pygments_lexer": "ipython3",
   "version": "3.7.4-final"
  },
  "orig_nbformat": 2,
  "kernelspec": {
   "name": "python3",
   "display_name": "Python 3.7.4 64-bit",
   "metadata": {
    "interpreter": {
     "hash": "7d54454c5b90215edd629039136dd369b005331dc451285ca417249cca438a04"
    }
   }
  }
 },
 "nbformat": 4,
 "nbformat_minor": 2,
 "cells": [
  {
   "cell_type": "code",
   "execution_count": 5,
   "metadata": {},
   "outputs": [],
   "source": [
    "usuarios_data_science = [15,23,43,56]\n",
    "usuarios_data_learning = [13,23,56,42]"
   ]
  },
  {
   "cell_type": "code",
   "execution_count": 6,
   "metadata": {},
   "outputs": [
    {
     "output_type": "execute_result",
     "data": {
      "text/plain": [
       "[15, 23, 43, 56, 13, 23, 56, 42]"
      ]
     },
     "metadata": {},
     "execution_count": 6
    }
   ],
   "source": [
    "assistiram =usuarios_data_science.copy()\n",
    "assistiram.extend(usuarios_data_learning)\n",
    "assistiram"
   ]
  },
  {
   "cell_type": "code",
   "execution_count": 7,
   "metadata": {},
   "outputs": [
    {
     "output_type": "execute_result",
     "data": {
      "text/plain": [
       "{13, 15, 23, 42, 43, 56}"
      ]
     },
     "metadata": {},
     "execution_count": 7
    }
   ],
   "source": [
    "set(assistiram)"
   ]
  },
  {
   "cell_type": "code",
   "execution_count": 8,
   "metadata": {},
   "outputs": [
    {
     "output_type": "execute_result",
     "data": {
      "text/plain": [
       "{1, 2, 3}"
      ]
     },
     "metadata": {},
     "execution_count": 8
    }
   ],
   "source": [
    "set([1,2,3,1])"
   ]
  },
  {
   "cell_type": "code",
   "execution_count": 9,
   "metadata": {},
   "outputs": [
    {
     "output_type": "execute_result",
     "data": {
      "text/plain": [
       "{1, 2, 4, 5}"
      ]
     },
     "metadata": {},
     "execution_count": 9
    }
   ],
   "source": [
    "{4,1,2,5,1}"
   ]
  },
  {
   "cell_type": "code",
   "execution_count": 10,
   "metadata": {},
   "outputs": [],
   "source": [
    "usuarios_data_science = {15,23,43,56}\n",
    "usuarios_data_learning = {13,23,56,42}"
   ]
  },
  {
   "cell_type": "code",
   "execution_count": 11,
   "metadata": {},
   "outputs": [
    {
     "output_type": "execute_result",
     "data": {
      "text/plain": [
       "{13, 23, 42, 56}"
      ]
     },
     "metadata": {},
     "execution_count": 11
    }
   ],
   "source": [
    "usuarios_data_learning"
   ]
  },
  {
   "cell_type": "code",
   "execution_count": 12,
   "metadata": {},
   "outputs": [
    {
     "output_type": "stream",
     "name": "stdout",
     "text": [
      "42\n43\n13\n15\n23\n56\n"
     ]
    }
   ],
   "source": [
    "for usuario in set(assistiram):\n",
    "    print(usuario)"
   ]
  },
  {
   "cell_type": "code",
   "execution_count": 13,
   "metadata": {},
   "outputs": [],
   "source": [
    "usuarios_data_science = {15,23,43,56}\n",
    "usuarios_data_learning = {13,23,56,42}"
   ]
  },
  {
   "cell_type": "code",
   "execution_count": 14,
   "metadata": {},
   "outputs": [
    {
     "output_type": "execute_result",
     "data": {
      "text/plain": [
       "{13, 15, 23, 42, 43, 56}"
      ]
     },
     "metadata": {},
     "execution_count": 14
    }
   ],
   "source": [
    "usuarios_data_science | usuarios_data_learning"
   ]
  },
  {
   "cell_type": "code",
   "execution_count": 15,
   "metadata": {},
   "outputs": [
    {
     "output_type": "execute_result",
     "data": {
      "text/plain": [
       "{23, 56}"
      ]
     },
     "metadata": {},
     "execution_count": 15
    }
   ],
   "source": [
    "usuarios_data_science &  usuarios_data_learning"
   ]
  },
  {
   "cell_type": "code",
   "execution_count": 16,
   "metadata": {},
   "outputs": [
    {
     "output_type": "execute_result",
     "data": {
      "text/plain": [
       "{15, 43}"
      ]
     },
     "metadata": {},
     "execution_count": 16
    }
   ],
   "source": [
    "usuarios_data_science - usuarios_data_learning"
   ]
  },
  {
   "cell_type": "code",
   "execution_count": 17,
   "metadata": {},
   "outputs": [
    {
     "output_type": "error",
     "ename": "TypeError",
     "evalue": "unsupported operand type(s) for +: 'set' and 'set'",
     "traceback": [
      "\u001b[1;31m---------------------------------------------------------------------------\u001b[0m",
      "\u001b[1;31mTypeError\u001b[0m                                 Traceback (most recent call last)",
      "\u001b[1;32m<ipython-input-17-0036e2ed196a>\u001b[0m in \u001b[0;36m<module>\u001b[1;34m\u001b[0m\n\u001b[1;32m----> 1\u001b[1;33m \u001b[0musuarios_data_science\u001b[0m \u001b[1;33m+\u001b[0m \u001b[0musuarios_data_learning\u001b[0m\u001b[1;33m\u001b[0m\u001b[1;33m\u001b[0m\u001b[0m\n\u001b[0m",
      "\u001b[1;31mTypeError\u001b[0m: unsupported operand type(s) for +: 'set' and 'set'"
     ]
    }
   ],
   "source": [
    "usuarios_data_science + usuarios_data_learning"
   ]
  },
  {
   "cell_type": "code",
   "execution_count": 18,
   "metadata": {},
   "outputs": [],
   "source": [
    "fez_ds_mas_nao_fez_ml = usuarios_data_science - usuarios_data_science"
   ]
  },
  {
   "cell_type": "code",
   "execution_count": 19,
   "metadata": {},
   "outputs": [
    {
     "output_type": "execute_result",
     "data": {
      "text/plain": [
       "False"
      ]
     },
     "metadata": {},
     "execution_count": 19
    }
   ],
   "source": [
    "15 in fez_ds_mas_nao_fez_ml"
   ]
  },
  {
   "cell_type": "code",
   "execution_count": 20,
   "metadata": {},
   "outputs": [
    {
     "output_type": "execute_result",
     "data": {
      "text/plain": [
       "False"
      ]
     },
     "metadata": {},
     "execution_count": 20
    }
   ],
   "source": [
    "23 in fez_ds_mas_nao_fez_ml"
   ]
  },
  {
   "cell_type": "code",
   "execution_count": 21,
   "metadata": {},
   "outputs": [
    {
     "output_type": "execute_result",
     "data": {
      "text/plain": [
       "{13, 15, 42, 43}"
      ]
     },
     "metadata": {},
     "execution_count": 21
    }
   ],
   "source": [
    "usuarios_data_learning ^ usuarios_data_science"
   ]
  },
  {
   "cell_type": "code",
   "execution_count": 22,
   "metadata": {},
   "outputs": [],
   "source": [
    "usuarios = {1,5,76,34,52,13,17}"
   ]
  },
  {
   "cell_type": "code",
   "execution_count": 23,
   "metadata": {},
   "outputs": [
    {
     "output_type": "execute_result",
     "data": {
      "text/plain": [
       "7"
      ]
     },
     "metadata": {},
     "execution_count": 23
    }
   ],
   "source": [
    "len(usuarios)"
   ]
  },
  {
   "cell_type": "code",
   "execution_count": 24,
   "metadata": {},
   "outputs": [
    {
     "output_type": "execute_result",
     "data": {
      "text/plain": [
       "8"
      ]
     },
     "metadata": {},
     "execution_count": 24
    }
   ],
   "source": [
    "usuarios.add(15)\n",
    "len(usuarios)"
   ]
  },
  {
   "cell_type": "code",
   "execution_count": 25,
   "metadata": {},
   "outputs": [
    {
     "output_type": "execute_result",
     "data": {
      "text/plain": [
       "8"
      ]
     },
     "metadata": {},
     "execution_count": 25
    }
   ],
   "source": [
    "usuarios.add(13)\n",
    "len(usuarios)"
   ]
  },
  {
   "cell_type": "code",
   "execution_count": 26,
   "metadata": {},
   "outputs": [
    {
     "output_type": "execute_result",
     "data": {
      "text/plain": [
       "{1, 5, 13, 15, 17, 34, 52, 76}"
      ]
     },
     "metadata": {},
     "execution_count": 26
    }
   ],
   "source": [
    "usuarios"
   ]
  },
  {
   "cell_type": "code",
   "execution_count": 27,
   "metadata": {},
   "outputs": [],
   "source": [
    "usuarios = frozenset(usuarios)"
   ]
  },
  {
   "cell_type": "code",
   "execution_count": 28,
   "metadata": {},
   "outputs": [
    {
     "output_type": "execute_result",
     "data": {
      "text/plain": [
       "frozenset"
      ]
     },
     "metadata": {},
     "execution_count": 28
    }
   ],
   "source": [
    "type(usuarios)"
   ]
  },
  {
   "cell_type": "code",
   "execution_count": 29,
   "metadata": {},
   "outputs": [
    {
     "output_type": "error",
     "ename": "AttributeError",
     "evalue": "'frozenset' object has no attribute 'add'",
     "traceback": [
      "\u001b[1;31m---------------------------------------------------------------------------\u001b[0m",
      "\u001b[1;31mAttributeError\u001b[0m                            Traceback (most recent call last)",
      "\u001b[1;32m<ipython-input-29-7553f6e1f3e6>\u001b[0m in \u001b[0;36m<module>\u001b[1;34m\u001b[0m\n\u001b[1;32m----> 1\u001b[1;33m \u001b[0musuarios\u001b[0m\u001b[1;33m.\u001b[0m\u001b[0madd\u001b[0m\u001b[1;33m(\u001b[0m\u001b[1;36m152\u001b[0m\u001b[1;33m)\u001b[0m\u001b[1;33m\u001b[0m\u001b[1;33m\u001b[0m\u001b[0m\n\u001b[0m",
      "\u001b[1;31mAttributeError\u001b[0m: 'frozenset' object has no attribute 'add'"
     ]
    }
   ],
   "source": [
    "usuarios.add(152)"
   ]
  },
  {
   "cell_type": "code",
   "execution_count": 30,
   "metadata": {},
   "outputs": [
    {
     "output_type": "execute_result",
     "data": {
      "text/plain": [
       "['Bem',\n",
       " 'vindo',\n",
       " 'meu',\n",
       " 'nome',\n",
       " 'e',\n",
       " 'Vinicius',\n",
       " 'Tenho',\n",
       " '5',\n",
       " 'cachorros',\n",
       " 'e',\n",
       " 'gosto',\n",
       " 'muito',\n",
       " 'de',\n",
       " 'cachorro']"
      ]
     },
     "metadata": {},
     "execution_count": 30
    }
   ],
   "source": [
    "meu_texto = \"Bem vindo meu nome e Vinicius Tenho 5 cachorros e gosto muito de cachorro\"\n",
    "meu_texto.split(' ')"
   ]
  },
  {
   "cell_type": "code",
   "execution_count": 31,
   "metadata": {},
   "outputs": [
    {
     "output_type": "execute_result",
     "data": {
      "text/plain": [
       "{'5',\n",
       " 'Bem',\n",
       " 'Tenho',\n",
       " 'Vinicius',\n",
       " 'cachorro',\n",
       " 'cachorros',\n",
       " 'de',\n",
       " 'e',\n",
       " 'gosto',\n",
       " 'meu',\n",
       " 'muito',\n",
       " 'nome',\n",
       " 'vindo'}"
      ]
     },
     "metadata": {},
     "execution_count": 31
    }
   ],
   "source": [
    "set(meu_texto.split(' '))"
   ]
  },
  {
   "cell_type": "code",
   "execution_count": 32,
   "metadata": {},
   "outputs": [],
   "source": [
    "aparicoes = {\n",
    "    \"guilherme\":1,\n",
    "    \"cachorro\":2,\n",
    "    \"nome\":2,\n",
    "    \"vindo\":2,\n",
    "}"
   ]
  },
  {
   "cell_type": "code",
   "execution_count": 33,
   "metadata": {},
   "outputs": [
    {
     "output_type": "execute_result",
     "data": {
      "text/plain": [
       "2"
      ]
     },
     "metadata": {},
     "execution_count": 33
    }
   ],
   "source": [
    "aparicoes.get(\"cachorro\",0)"
   ]
  },
  {
   "cell_type": "code",
   "execution_count": 48,
   "metadata": {},
   "outputs": [],
   "source": [
    "aparicoes = {\n",
    "    \"guilherme\":1,\n",
    "    \"cachorro\":2,\n",
    "    \"nome\":2,\n",
    "    \"vindo\":1,\n",
    "}"
   ]
  },
  {
   "cell_type": "code",
   "execution_count": 35,
   "metadata": {},
   "outputs": [],
   "source": [
    "aparicoes[\"carlos\"] = 1"
   ]
  },
  {
   "cell_type": "code",
   "execution_count": 36,
   "metadata": {},
   "outputs": [
    {
     "output_type": "execute_result",
     "data": {
      "text/plain": [
       "{'guilherme': 1, 'cachorro': 2, 'nome': 2, 'vindo': 2, 'carlos': 1}"
      ]
     },
     "metadata": {},
     "execution_count": 36
    }
   ],
   "source": [
    "aparicoes"
   ]
  },
  {
   "cell_type": "code",
   "execution_count": 37,
   "metadata": {},
   "outputs": [],
   "source": [
    "aparicoes[\"carlos\"] = 2"
   ]
  },
  {
   "cell_type": "code",
   "execution_count": 38,
   "metadata": {},
   "outputs": [
    {
     "output_type": "execute_result",
     "data": {
      "text/plain": [
       "{'guilherme': 1, 'cachorro': 2, 'nome': 2, 'vindo': 2, 'carlos': 2}"
      ]
     },
     "metadata": {},
     "execution_count": 38
    }
   ],
   "source": [
    "aparicoes"
   ]
  },
  {
   "cell_type": "code",
   "execution_count": 39,
   "metadata": {},
   "outputs": [],
   "source": [
    "del aparicoes['carlos']"
   ]
  },
  {
   "cell_type": "code",
   "execution_count": 40,
   "metadata": {},
   "outputs": [
    {
     "output_type": "execute_result",
     "data": {
      "text/plain": [
       "{'guilherme': 1, 'cachorro': 2, 'nome': 2, 'vindo': 2}"
      ]
     },
     "metadata": {},
     "execution_count": 40
    }
   ],
   "source": [
    "aparicoes"
   ]
  },
  {
   "cell_type": "code",
   "execution_count": 41,
   "metadata": {},
   "outputs": [
    {
     "output_type": "execute_result",
     "data": {
      "text/plain": [
       "True"
      ]
     },
     "metadata": {},
     "execution_count": 41
    }
   ],
   "source": [
    "'cachorro' in aparicoes"
   ]
  },
  {
   "cell_type": "code",
   "execution_count": 42,
   "metadata": {},
   "outputs": [
    {
     "output_type": "execute_result",
     "data": {
      "text/plain": [
       "False"
      ]
     },
     "metadata": {},
     "execution_count": 42
    }
   ],
   "source": [
    "\"Carlos\" in aparicoes"
   ]
  },
  {
   "cell_type": "code",
   "execution_count": 44,
   "metadata": {},
   "outputs": [
    {
     "output_type": "stream",
     "name": "stdout",
     "text": [
      "guilherme\ncachorro\nnome\nvindo\n"
     ]
    }
   ],
   "source": [
    "for elemento in aparicoes:\n",
    "    print(elemento)"
   ]
  },
  {
   "cell_type": "code",
   "execution_count": 47,
   "metadata": {},
   "outputs": [
    {
     "output_type": "stream",
     "name": "stdout",
     "text": [
      "1\n2\n2\n2\n"
     ]
    }
   ],
   "source": [
    "for elemento in aparicoes.values():\n",
    "    print(elemento)"
   ]
  },
  {
   "cell_type": "code",
   "execution_count": 49,
   "metadata": {},
   "outputs": [
    {
     "output_type": "stream",
     "name": "stdout",
     "text": [
      "guilherme 1\ncachorro 2\nnome 2\nvindo 1\n"
     ]
    }
   ],
   "source": [
    "for elemento in aparicoes.keys():\n",
    "    valor = aparicoes[elemento]\n",
    "    print(elemento,valor)"
   ]
  },
  {
   "cell_type": "code",
   "execution_count": 50,
   "metadata": {},
   "outputs": [
    {
     "output_type": "stream",
     "name": "stdout",
     "text": [
      "('guilherme', 1)\n('cachorro', 2)\n('nome', 2)\n('vindo', 1)\n"
     ]
    }
   ],
   "source": [
    "for elemento in aparicoes.items():\n",
    "    print(elemento)\n",
    "\n"
   ]
  },
  {
   "cell_type": "code",
   "execution_count": 51,
   "metadata": {},
   "outputs": [
    {
     "output_type": "stream",
     "name": "stdout",
     "text": [
      "guilherme = 1\ncachorro = 2\nnome = 2\nvindo = 1\n"
     ]
    }
   ],
   "source": [
    "for chave , valor in aparicoes.items():\n",
    "    print(chave ,\"=\", valor)\n",
    "\n"
   ]
  },
  {
   "cell_type": "code",
   "execution_count": 54,
   "metadata": {},
   "outputs": [
    {
     "output_type": "execute_result",
     "data": {
      "text/plain": [
       "['pavabra guilherme', 'pavabra cachorro', 'pavabra nome', 'pavabra vindo']"
      ]
     },
     "metadata": {},
     "execution_count": 54
    }
   ],
   "source": [
    "[f\"pavabra {chave}\"for chave in aparicoes.keys()]"
   ]
  },
  {
   "cell_type": "code",
   "execution_count": 59,
   "metadata": {},
   "outputs": [
    {
     "output_type": "execute_result",
     "data": {
      "text/plain": [
       "{'bem': 1,\n",
       " 'vindo': 1,\n",
       " 'meu': 1,\n",
       " 'nome': 1,\n",
       " 'e': 2,\n",
       " 'vinicius': 1,\n",
       " 'tenho': 1,\n",
       " '5': 1,\n",
       " 'cachorros': 1,\n",
       " 'gosto': 1,\n",
       " 'muito': 1,\n",
       " 'de': 1,\n",
       " 'cachorro': 1}"
      ]
     },
     "metadata": {},
     "execution_count": 59
    }
   ],
   "source": [
    "meu_texto = \"Bem vindo meu nome e Vinicius Tenho 5 cachorros e gosto muito de cachorro\"\n",
    "meu_texto = meu_texto.lower()\n",
    "aparicoes = {}\n",
    "for palavra in meu_texto.split():\n",
    "    ate_agora = aparicoes.get(palavra,0)\n",
    "    aparicoes[palavra] = ate_agora+1\n",
    "\n",
    "aparicoes"
   ]
  },
  {
   "cell_type": "code",
   "execution_count": 57,
   "metadata": {},
   "outputs": [
    {
     "output_type": "execute_result",
     "data": {
      "text/plain": [
       "defaultdict(int,\n",
       "            {'bem': 1,\n",
       "             'vindo': 1,\n",
       "             'meu': 1,\n",
       "             'nome': 1,\n",
       "             'e': 2,\n",
       "             'vinicius': 1,\n",
       "             'tenho': 1,\n",
       "             '5': 1,\n",
       "             'cachorros': 1,\n",
       "             'gosto': 1,\n",
       "             'muito': 1,\n",
       "             'de': 1,\n",
       "             'cachorro': 1})"
      ]
     },
     "metadata": {},
     "execution_count": 57
    }
   ],
   "source": [
    "from collections import defaultdict\n",
    "\n",
    "aparicoes = defaultdict(int)\n",
    "for palavra in meu_texto.split():\n",
    "    ate_agora = aparicoes[palavra]\n",
    "    aparicoes[palavra] = ate_agora+1\n",
    "\n",
    "aparicoes"
   ]
  },
  {
   "cell_type": "code",
   "execution_count": 60,
   "metadata": {},
   "outputs": [
    {
     "output_type": "execute_result",
     "data": {
      "text/plain": [
       "defaultdict(int,\n",
       "            {'bem': 1,\n",
       "             'vindo': 1,\n",
       "             'meu': 1,\n",
       "             'nome': 1,\n",
       "             'e': 2,\n",
       "             'vinicius': 1,\n",
       "             'tenho': 1,\n",
       "             '5': 1,\n",
       "             'cachorros': 1,\n",
       "             'gosto': 1,\n",
       "             'muito': 1,\n",
       "             'de': 1,\n",
       "             'cachorro': 1})"
      ]
     },
     "metadata": {},
     "execution_count": 60
    }
   ],
   "source": [
    "aparicoes = defaultdict(int)\n",
    "for palavra in meu_texto.split():\n",
    "    aparicoes[palavra] +=1\n",
    "\n",
    "aparicoes"
   ]
  },
  {
   "cell_type": "code",
   "execution_count": 62,
   "metadata": {},
   "outputs": [],
   "source": [
    "class Conta:\n",
    "    def __init__(self):\n",
    "        print(\"Criando um conta\")\n",
    "    "
   ]
  },
  {
   "cell_type": "code",
   "execution_count": 63,
   "metadata": {},
   "outputs": [
    {
     "output_type": "stream",
     "name": "stdout",
     "text": [
      "Criando um conta\n"
     ]
    },
    {
     "output_type": "execute_result",
     "data": {
      "text/plain": [
       "<__main__.Conta at 0x1cd6c3dcbc8>"
      ]
     },
     "metadata": {},
     "execution_count": 63
    }
   ],
   "source": [
    "contas = defaultdict(Conta)\n",
    "contas[15]"
   ]
  },
  {
   "cell_type": "code",
   "execution_count": 65,
   "metadata": {},
   "outputs": [
    {
     "output_type": "execute_result",
     "data": {
      "text/plain": [
       "Counter({'bem': 1,\n",
       "         'vindo': 1,\n",
       "         'meu': 1,\n",
       "         'nome': 1,\n",
       "         'e': 2,\n",
       "         'vinicius': 1,\n",
       "         'tenho': 1,\n",
       "         '5': 1,\n",
       "         'cachorros': 1,\n",
       "         'gosto': 1,\n",
       "         'muito': 1,\n",
       "         'de': 1,\n",
       "         'cachorro': 1})"
      ]
     },
     "metadata": {},
     "execution_count": 65
    }
   ],
   "source": [
    "from collections import Counter\n",
    "aparicoes = Counter(meu_texto.split())\n",
    "\n",
    "aparicoes"
   ]
  },
  {
   "cell_type": "code",
   "execution_count": 84,
   "metadata": {},
   "outputs": [],
   "source": [
    "#Testando diversas coleção \n",
    "texto1 = \"\"\"\n",
    "Paulo Caroli é especialista em práticas ágeis e lean, e recentemente publicou um texto falando sobre sua experiência com mergulho quando adolescente e fez uma reflexão sobre o processo de facilitação de times.\n",
    "\n",
    "Ele compara os encontros com o time com mergulhos profundos e afirma que, quanto mais tenso e longo for o encontro ou mergulho, maior é a necessidade de realizar uma atividade leve e descontraída, para que assim o time se recupere emocional e fisicamente. Essa atividade leve é a descompressão, usada pelos mergulhadores e sua duração é calculada conforme o tamanho da profundidade e a permanência nela.\n",
    "\n",
    "Ao final da leitura não pude deixar de associá-lo ao tema do Dev em T, que tanto temos explorado aqui na Alura.\n",
    "\"\"\""
   ]
  },
  {
   "cell_type": "code",
   "execution_count": 83,
   "metadata": {},
   "outputs": [],
   "source": [
    "texto2 = \"\"\"\n",
    "De 22 de março a 02 de abril vamos promover a maior Imersão de Programação na Alura, a #ImersãoDev.\n",
    "\n",
    "Serão 10 dias de aulas incríveis totalmente gratuitas e online para você que sempre quis estudar programação!\n",
    "\n",
    "Ao longo das aulas, você vai aprender a escrever os seus primeiros códigos em Javascript, utilizando ferramentas específicas, além de contar com todo o apoio de instrutores e instrutoras da Alura e da comunidade, através do nosso canal no Discord.\n",
    "\n",
    "Vem aprender a programar na Imersão Dev!\n",
    "\n",
    "Inscreva-se no link: https://imersao.dev/ e prepare-se para sair com o seu primeiro portfólio completo! Te esperamos lá!\n",
    "\"\"\""
   ]
  },
  {
   "cell_type": "code",
   "execution_count": 88,
   "metadata": {},
   "outputs": [
    {
     "output_type": "stream",
     "name": "stdout",
     "text": [
      "  => 16.323731138545952%\ne => 11.659807956104252%\na => 9.602194787379972%\no => 8.367626886145404%\ns => 4.938271604938271%\nr => 4.801097393689986%\ni => 4.526748971193416%\nd => 4.252400548696845%\nm => 3.9780521262002746%\nn => 3.9780521262002746%\n"
     ]
    }
   ],
   "source": [
    "def analisa_frequencia_de_letras(texto):\n",
    "\n",
    "    aparicoes = Counter(texto.lower())\n",
    "    total_de_caracteres = sum(aparicoes.values())\n",
    "\n",
    "    proporcoes = [(letra,frequencia/total_de_caracteres) for letra,frequencia in aparicoes.items()]\n",
    "\n",
    "    proporcoes = Counter(dict(proporcoes))\n",
    "    mais_comuns =  proporcoes.most_common(10)\n",
    "    for caractere , porporcao in mais_comuns:\n",
    "        print(f'{caractere} => {porporcao*100}%')\n",
    "\n",
    "analisa_frequencia_de_letras(texto1)\n",
    "\n",
    "\n"
   ]
  },
  {
   "cell_type": "code",
   "execution_count": 86,
   "metadata": {},
   "outputs": [
    {
     "output_type": "stream",
     "name": "stdout",
     "text": [
      "  => 15.2%\na => 9.76%\ne => 8.959999999999999%\nr => 8.16%\no => 8.0%\ns => 6.5600000000000005%\ni => 4.96%\nd => 4.0%\nm => 3.84%\nn => 3.36%\n"
     ]
    }
   ],
   "source": [
    "analisa_frequencia_de_letras(texto2)"
   ]
  },
  {
   "cell_type": "code",
   "execution_count": null,
   "metadata": {},
   "outputs": [],
   "source": []
  }
 ]
}